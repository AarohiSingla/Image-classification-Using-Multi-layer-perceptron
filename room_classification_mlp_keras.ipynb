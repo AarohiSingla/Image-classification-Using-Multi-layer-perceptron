{
 "cells": [
  {
   "cell_type": "markdown",
   "metadata": {},
   "source": [
    "# Image Classification Using Multi Layer Perceptron"
   ]
  },
  {
   "cell_type": "code",
   "execution_count": 2,
   "metadata": {},
   "outputs": [
    {
     "name": "stdout",
     "output_type": "stream",
     "text": [
      "['bed_room', 'dining_room', 'living_room']\n",
      "Types of rooms found:  3\n"
     ]
    }
   ],
   "source": [
    "import numpy as np \n",
    "import pandas as pd \n",
    "import matplotlib.pyplot as plt\n",
    "import os\n",
    "\n",
    "\n",
    "room_types = os.listdir('dataset')\n",
    "print (room_types)  \n",
    "\n",
    "print(\"Types of rooms found: \", len(room_types))\n"
   ]
  },
  {
   "cell_type": "code",
   "execution_count": 3,
   "metadata": {},
   "outputs": [
    {
     "name": "stdout",
     "output_type": "stream",
     "text": [
      "[('bed_room', 'dataset/bed_room/apartment-2094734__340.jpg')]\n",
      "[('bed_room', 'dataset/bed_room/apartment-2094734__340.jpg')]\n",
      "[('bed_room', 'dataset/bed_room/apartment-2094734__340.jpg')]\n",
      "[('bed_room', 'dataset/bed_room/apartment-2094734__340.jpg')]\n",
      "[('bed_room', 'dataset/bed_room/apartment-2094734__340.jpg')]\n",
      "[('bed_room', 'dataset/bed_room/apartment-2094734__340.jpg')]\n",
      "[('bed_room', 'dataset/bed_room/apartment-2094734__340.jpg')]\n",
      "[('bed_room', 'dataset/bed_room/apartment-2094734__340.jpg')]\n",
      "[('bed_room', 'dataset/bed_room/apartment-2094734__340.jpg')]\n",
      "[('bed_room', 'dataset/bed_room/apartment-2094734__340.jpg')]\n",
      "[('bed_room', 'dataset/bed_room/apartment-2094734__340.jpg')]\n",
      "[('bed_room', 'dataset/bed_room/apartment-2094734__340.jpg')]\n",
      "[('bed_room', 'dataset/bed_room/apartment-2094734__340.jpg')]\n",
      "[('bed_room', 'dataset/bed_room/apartment-2094734__340.jpg')]\n",
      "[('bed_room', 'dataset/bed_room/apartment-2094734__340.jpg')]\n",
      "[('bed_room', 'dataset/bed_room/apartment-2094734__340.jpg')]\n",
      "[('bed_room', 'dataset/bed_room/apartment-2094734__340.jpg')]\n",
      "[('bed_room', 'dataset/bed_room/apartment-2094734__340.jpg')]\n",
      "[('bed_room', 'dataset/bed_room/apartment-2094734__340.jpg')]\n",
      "[('bed_room', 'dataset/bed_room/apartment-2094734__340.jpg')]\n",
      "[('bed_room', 'dataset/bed_room/apartment-2094734__340.jpg')]\n",
      "[('bed_room', 'dataset/bed_room/apartment-2094734__340.jpg')]\n",
      "[('bed_room', 'dataset/bed_room/apartment-2094734__340.jpg')]\n",
      "[('bed_room', 'dataset/bed_room/apartment-2094734__340.jpg')]\n",
      "[('bed_room', 'dataset/bed_room/apartment-2094734__340.jpg')]\n",
      "[('bed_room', 'dataset/bed_room/apartment-2094734__340.jpg')]\n",
      "[('bed_room', 'dataset/bed_room/apartment-2094734__340.jpg')]\n",
      "[('bed_room', 'dataset/bed_room/apartment-2094734__340.jpg')]\n",
      "[('bed_room', 'dataset/bed_room/apartment-2094734__340.jpg')]\n",
      "[('bed_room', 'dataset/bed_room/apartment-2094734__340.jpg')]\n",
      "[('bed_room', 'dataset/bed_room/apartment-2094734__340.jpg')]\n",
      "[('bed_room', 'dataset/bed_room/apartment-2094734__340.jpg')]\n",
      "[('bed_room', 'dataset/bed_room/apartment-2094734__340.jpg')]\n",
      "[('bed_room', 'dataset/bed_room/apartment-2094734__340.jpg')]\n",
      "[('bed_room', 'dataset/bed_room/apartment-2094734__340.jpg')]\n",
      "[('bed_room', 'dataset/bed_room/apartment-2094734__340.jpg')]\n",
      "[('bed_room', 'dataset/bed_room/apartment-2094734__340.jpg')]\n",
      "[('bed_room', 'dataset/bed_room/apartment-2094734__340.jpg')]\n",
      "[('bed_room', 'dataset/bed_room/apartment-2094734__340.jpg')]\n",
      "[('bed_room', 'dataset/bed_room/apartment-2094734__340.jpg')]\n",
      "[('bed_room', 'dataset/bed_room/apartment-2094734__340.jpg')]\n",
      "[('bed_room', 'dataset/bed_room/apartment-2094734__340.jpg')]\n",
      "[('bed_room', 'dataset/bed_room/apartment-2094734__340.jpg')]\n",
      "[('bed_room', 'dataset/bed_room/apartment-2094734__340.jpg')]\n",
      "[('bed_room', 'dataset/bed_room/apartment-2094734__340.jpg')]\n",
      "[('bed_room', 'dataset/bed_room/apartment-2094734__340.jpg')]\n",
      "[('bed_room', 'dataset/bed_room/apartment-2094734__340.jpg')]\n",
      "[('bed_room', 'dataset/bed_room/apartment-2094734__340.jpg')]\n",
      "[('bed_room', 'dataset/bed_room/apartment-2094734__340.jpg')]\n",
      "[('bed_room', 'dataset/bed_room/apartment-2094734__340.jpg')]\n",
      "[('bed_room', 'dataset/bed_room/apartment-2094734__340.jpg')]\n",
      "[('bed_room', 'dataset/bed_room/apartment-2094734__340.jpg')]\n",
      "[('bed_room', 'dataset/bed_room/apartment-2094734__340.jpg')]\n",
      "[('bed_room', 'dataset/bed_room/apartment-2094734__340.jpg')]\n",
      "[('bed_room', 'dataset/bed_room/apartment-2094734__340.jpg')]\n",
      "[('bed_room', 'dataset/bed_room/apartment-2094734__340.jpg')]\n",
      "[('bed_room', 'dataset/bed_room/apartment-2094734__340.jpg')]\n",
      "[('bed_room', 'dataset/bed_room/apartment-2094734__340.jpg')]\n",
      "[('bed_room', 'dataset/bed_room/apartment-2094734__340.jpg')]\n",
      "[('bed_room', 'dataset/bed_room/apartment-2094734__340.jpg')]\n",
      "[('bed_room', 'dataset/bed_room/apartment-2094734__340.jpg')]\n",
      "[('bed_room', 'dataset/bed_room/apartment-2094734__340.jpg')]\n",
      "[('bed_room', 'dataset/bed_room/apartment-2094734__340.jpg')]\n",
      "[('bed_room', 'dataset/bed_room/apartment-2094734__340.jpg')]\n",
      "[('bed_room', 'dataset/bed_room/apartment-2094734__340.jpg')]\n",
      "[('bed_room', 'dataset/bed_room/apartment-2094734__340.jpg')]\n",
      "[('bed_room', 'dataset/bed_room/apartment-2094734__340.jpg')]\n",
      "[('bed_room', 'dataset/bed_room/apartment-2094734__340.jpg')]\n",
      "[('bed_room', 'dataset/bed_room/apartment-2094734__340.jpg')]\n",
      "[('bed_room', 'dataset/bed_room/apartment-2094734__340.jpg')]\n",
      "[('bed_room', 'dataset/bed_room/apartment-2094734__340.jpg')]\n",
      "[('bed_room', 'dataset/bed_room/apartment-2094734__340.jpg')]\n",
      "[('bed_room', 'dataset/bed_room/apartment-2094734__340.jpg')]\n",
      "[('bed_room', 'dataset/bed_room/apartment-2094734__340.jpg')]\n",
      "[('bed_room', 'dataset/bed_room/apartment-2094734__340.jpg')]\n",
      "[('bed_room', 'dataset/bed_room/apartment-2094734__340.jpg')]\n",
      "[('bed_room', 'dataset/bed_room/apartment-2094734__340.jpg')]\n",
      "[('bed_room', 'dataset/bed_room/apartment-2094734__340.jpg')]\n",
      "[('bed_room', 'dataset/bed_room/apartment-2094734__340.jpg')]\n",
      "[('bed_room', 'dataset/bed_room/apartment-2094734__340.jpg')]\n",
      "[('bed_room', 'dataset/bed_room/apartment-2094734__340.jpg')]\n",
      "[('bed_room', 'dataset/bed_room/apartment-2094734__340.jpg')]\n",
      "[('bed_room', 'dataset/bed_room/apartment-2094734__340.jpg')]\n",
      "[('bed_room', 'dataset/bed_room/apartment-2094734__340.jpg')]\n",
      "[('bed_room', 'dataset/bed_room/apartment-2094734__340.jpg')]\n",
      "[('bed_room', 'dataset/bed_room/apartment-2094734__340.jpg')]\n",
      "[('bed_room', 'dataset/bed_room/apartment-2094734__340.jpg')]\n",
      "[('bed_room', 'dataset/bed_room/apartment-2094734__340.jpg')]\n",
      "[('bed_room', 'dataset/bed_room/apartment-2094734__340.jpg')]\n",
      "[('bed_room', 'dataset/bed_room/apartment-2094734__340.jpg')]\n",
      "[('bed_room', 'dataset/bed_room/apartment-2094734__340.jpg')]\n",
      "[('bed_room', 'dataset/bed_room/apartment-2094734__340.jpg')]\n",
      "[('bed_room', 'dataset/bed_room/apartment-2094734__340.jpg')]\n",
      "[('bed_room', 'dataset/bed_room/apartment-2094734__340.jpg')]\n",
      "[('bed_room', 'dataset/bed_room/apartment-2094734__340.jpg')]\n",
      "[('bed_room', 'dataset/bed_room/apartment-2094734__340.jpg')]\n",
      "[('bed_room', 'dataset/bed_room/apartment-2094734__340.jpg')]\n",
      "[('bed_room', 'dataset/bed_room/apartment-2094734__340.jpg')]\n",
      "[('bed_room', 'dataset/bed_room/apartment-2094734__340.jpg')]\n",
      "[('bed_room', 'dataset/bed_room/apartment-2094734__340.jpg')]\n",
      "[('bed_room', 'dataset/bed_room/apartment-2094734__340.jpg')]\n",
      "[('bed_room', 'dataset/bed_room/apartment-2094734__340.jpg')]\n",
      "[('bed_room', 'dataset/bed_room/apartment-2094734__340.jpg')]\n",
      "[('bed_room', 'dataset/bed_room/apartment-2094734__340.jpg')]\n",
      "[('bed_room', 'dataset/bed_room/apartment-2094734__340.jpg')]\n",
      "[('bed_room', 'dataset/bed_room/apartment-2094734__340.jpg')]\n",
      "[('bed_room', 'dataset/bed_room/apartment-2094734__340.jpg')]\n",
      "[('bed_room', 'dataset/bed_room/apartment-2094734__340.jpg')]\n",
      "[('bed_room', 'dataset/bed_room/apartment-2094734__340.jpg')]\n",
      "[('bed_room', 'dataset/bed_room/apartment-2094734__340.jpg')]\n",
      "[('bed_room', 'dataset/bed_room/apartment-2094734__340.jpg')]\n",
      "[('bed_room', 'dataset/bed_room/apartment-2094734__340.jpg')]\n",
      "[('bed_room', 'dataset/bed_room/apartment-2094734__340.jpg')]\n",
      "[('bed_room', 'dataset/bed_room/apartment-2094734__340.jpg')]\n",
      "[('bed_room', 'dataset/bed_room/apartment-2094734__340.jpg')]\n",
      "[('bed_room', 'dataset/bed_room/apartment-2094734__340.jpg')]\n",
      "[('bed_room', 'dataset/bed_room/apartment-2094734__340.jpg')]\n",
      "[('bed_room', 'dataset/bed_room/apartment-2094734__340.jpg')]\n",
      "[('bed_room', 'dataset/bed_room/apartment-2094734__340.jpg')]\n",
      "[('bed_room', 'dataset/bed_room/apartment-2094734__340.jpg')]\n",
      "[('bed_room', 'dataset/bed_room/apartment-2094734__340.jpg')]\n",
      "[('bed_room', 'dataset/bed_room/apartment-2094734__340.jpg')]\n",
      "[('bed_room', 'dataset/bed_room/apartment-2094734__340.jpg')]\n",
      "[('bed_room', 'dataset/bed_room/apartment-2094734__340.jpg')]\n",
      "[('bed_room', 'dataset/bed_room/apartment-2094734__340.jpg')]\n",
      "[('bed_room', 'dataset/bed_room/apartment-2094734__340.jpg')]\n",
      "[('bed_room', 'dataset/bed_room/apartment-2094734__340.jpg')]\n",
      "[('bed_room', 'dataset/bed_room/apartment-2094734__340.jpg')]\n",
      "[('bed_room', 'dataset/bed_room/apartment-2094734__340.jpg')]\n",
      "[('bed_room', 'dataset/bed_room/apartment-2094734__340.jpg')]\n",
      "[('bed_room', 'dataset/bed_room/apartment-2094734__340.jpg')]\n",
      "[('bed_room', 'dataset/bed_room/apartment-2094734__340.jpg')]\n",
      "[('bed_room', 'dataset/bed_room/apartment-2094734__340.jpg')]\n",
      "[('bed_room', 'dataset/bed_room/apartment-2094734__340.jpg')]\n",
      "[('bed_room', 'dataset/bed_room/apartment-2094734__340.jpg')]\n",
      "[('bed_room', 'dataset/bed_room/apartment-2094734__340.jpg')]\n",
      "[('bed_room', 'dataset/bed_room/apartment-2094734__340.jpg')]\n",
      "[('bed_room', 'dataset/bed_room/apartment-2094734__340.jpg')]\n",
      "[('bed_room', 'dataset/bed_room/apartment-2094734__340.jpg')]\n",
      "[('bed_room', 'dataset/bed_room/apartment-2094734__340.jpg')]\n",
      "[('bed_room', 'dataset/bed_room/apartment-2094734__340.jpg')]\n",
      "[('bed_room', 'dataset/bed_room/apartment-2094734__340.jpg')]\n",
      "[('bed_room', 'dataset/bed_room/apartment-2094734__340.jpg')]\n",
      "[('bed_room', 'dataset/bed_room/apartment-2094734__340.jpg')]\n",
      "[('bed_room', 'dataset/bed_room/apartment-2094734__340.jpg')]\n",
      "[('bed_room', 'dataset/bed_room/apartment-2094734__340.jpg')]\n",
      "[('bed_room', 'dataset/bed_room/apartment-2094734__340.jpg')]\n",
      "[('bed_room', 'dataset/bed_room/apartment-2094734__340.jpg')]\n",
      "[('bed_room', 'dataset/bed_room/apartment-2094734__340.jpg')]\n",
      "[('bed_room', 'dataset/bed_room/apartment-2094734__340.jpg')]\n",
      "[('bed_room', 'dataset/bed_room/apartment-2094734__340.jpg')]\n",
      "[('bed_room', 'dataset/bed_room/apartment-2094734__340.jpg')]\n",
      "[('bed_room', 'dataset/bed_room/apartment-2094734__340.jpg')]\n",
      "[('bed_room', 'dataset/bed_room/apartment-2094734__340.jpg')]\n",
      "[('bed_room', 'dataset/bed_room/apartment-2094734__340.jpg')]\n",
      "[('bed_room', 'dataset/bed_room/apartment-2094734__340.jpg')]\n",
      "[('bed_room', 'dataset/bed_room/apartment-2094734__340.jpg')]\n",
      "[('bed_room', 'dataset/bed_room/apartment-2094734__340.jpg')]\n",
      "[('bed_room', 'dataset/bed_room/apartment-2094734__340.jpg')]\n",
      "[('bed_room', 'dataset/bed_room/apartment-2094734__340.jpg')]\n",
      "[('bed_room', 'dataset/bed_room/apartment-2094734__340.jpg')]\n",
      "[('bed_room', 'dataset/bed_room/apartment-2094734__340.jpg')]\n",
      "[('bed_room', 'dataset/bed_room/apartment-2094734__340.jpg')]\n",
      "[('bed_room', 'dataset/bed_room/apartment-2094734__340.jpg')]\n",
      "[('bed_room', 'dataset/bed_room/apartment-2094734__340.jpg')]\n",
      "[('bed_room', 'dataset/bed_room/apartment-2094734__340.jpg')]\n",
      "[('bed_room', 'dataset/bed_room/apartment-2094734__340.jpg')]\n",
      "[('bed_room', 'dataset/bed_room/apartment-2094734__340.jpg')]\n",
      "[('bed_room', 'dataset/bed_room/apartment-2094734__340.jpg')]\n",
      "[('bed_room', 'dataset/bed_room/apartment-2094734__340.jpg')]\n",
      "[('bed_room', 'dataset/bed_room/apartment-2094734__340.jpg')]\n",
      "[('bed_room', 'dataset/bed_room/apartment-2094734__340.jpg')]\n",
      "[('bed_room', 'dataset/bed_room/apartment-2094734__340.jpg')]\n",
      "[('bed_room', 'dataset/bed_room/apartment-2094734__340.jpg')]\n",
      "[('bed_room', 'dataset/bed_room/apartment-2094734__340.jpg')]\n",
      "[('bed_room', 'dataset/bed_room/apartment-2094734__340.jpg')]\n",
      "[('bed_room', 'dataset/bed_room/apartment-2094734__340.jpg')]\n",
      "[('bed_room', 'dataset/bed_room/apartment-2094734__340.jpg')]\n",
      "[('bed_room', 'dataset/bed_room/apartment-2094734__340.jpg')]\n",
      "[('bed_room', 'dataset/bed_room/apartment-2094734__340.jpg')]\n",
      "[('bed_room', 'dataset/bed_room/apartment-2094734__340.jpg')]\n",
      "[('bed_room', 'dataset/bed_room/apartment-2094734__340.jpg')]\n",
      "[('bed_room', 'dataset/bed_room/apartment-2094734__340.jpg')]\n",
      "[('bed_room', 'dataset/bed_room/apartment-2094734__340.jpg')]\n",
      "[('bed_room', 'dataset/bed_room/apartment-2094734__340.jpg')]\n",
      "[('bed_room', 'dataset/bed_room/apartment-2094734__340.jpg')]\n",
      "[('bed_room', 'dataset/bed_room/apartment-2094734__340.jpg')]\n",
      "[('bed_room', 'dataset/bed_room/apartment-2094734__340.jpg')]\n",
      "[('bed_room', 'dataset/bed_room/apartment-2094734__340.jpg')]\n",
      "[('bed_room', 'dataset/bed_room/apartment-2094734__340.jpg')]\n",
      "[('bed_room', 'dataset/bed_room/apartment-2094734__340.jpg')]\n",
      "[('bed_room', 'dataset/bed_room/apartment-2094734__340.jpg')]\n",
      "[('bed_room', 'dataset/bed_room/apartment-2094734__340.jpg')]\n",
      "[('bed_room', 'dataset/bed_room/apartment-2094734__340.jpg')]\n",
      "[('bed_room', 'dataset/bed_room/apartment-2094734__340.jpg')]\n",
      "[('bed_room', 'dataset/bed_room/apartment-2094734__340.jpg')]\n",
      "[('bed_room', 'dataset/bed_room/apartment-2094734__340.jpg')]\n",
      "[('bed_room', 'dataset/bed_room/apartment-2094734__340.jpg')]\n",
      "[('bed_room', 'dataset/bed_room/apartment-2094734__340.jpg')]\n",
      "[('bed_room', 'dataset/bed_room/apartment-2094734__340.jpg')]\n",
      "[('bed_room', 'dataset/bed_room/apartment-2094734__340.jpg')]\n",
      "[('bed_room', 'dataset/bed_room/apartment-2094734__340.jpg')]\n",
      "[('bed_room', 'dataset/bed_room/apartment-2094734__340.jpg')]\n",
      "[('bed_room', 'dataset/bed_room/apartment-2094734__340.jpg')]\n",
      "[('bed_room', 'dataset/bed_room/apartment-2094734__340.jpg')]\n",
      "[('bed_room', 'dataset/bed_room/apartment-2094734__340.jpg')]\n",
      "[('bed_room', 'dataset/bed_room/apartment-2094734__340.jpg')]\n",
      "[('bed_room', 'dataset/bed_room/apartment-2094734__340.jpg')]\n",
      "[('bed_room', 'dataset/bed_room/apartment-2094734__340.jpg')]\n",
      "[('bed_room', 'dataset/bed_room/apartment-2094734__340.jpg')]\n",
      "[('bed_room', 'dataset/bed_room/apartment-2094734__340.jpg')]\n",
      "[('bed_room', 'dataset/bed_room/apartment-2094734__340.jpg')]\n",
      "[('bed_room', 'dataset/bed_room/apartment-2094734__340.jpg')]\n",
      "[('bed_room', 'dataset/bed_room/apartment-2094734__340.jpg')]\n",
      "[('bed_room', 'dataset/bed_room/apartment-2094734__340.jpg')]\n",
      "[('bed_room', 'dataset/bed_room/apartment-2094734__340.jpg')]\n",
      "[('bed_room', 'dataset/bed_room/apartment-2094734__340.jpg')]\n",
      "[('bed_room', 'dataset/bed_room/apartment-2094734__340.jpg')]\n",
      "[('bed_room', 'dataset/bed_room/apartment-2094734__340.jpg')]\n",
      "[('bed_room', 'dataset/bed_room/apartment-2094734__340.jpg')]\n",
      "[('bed_room', 'dataset/bed_room/apartment-2094734__340.jpg')]\n",
      "[('bed_room', 'dataset/bed_room/apartment-2094734__340.jpg')]\n",
      "[('bed_room', 'dataset/bed_room/apartment-2094734__340.jpg')]\n",
      "[('bed_room', 'dataset/bed_room/apartment-2094734__340.jpg')]\n",
      "[('bed_room', 'dataset/bed_room/apartment-2094734__340.jpg')]\n",
      "[('bed_room', 'dataset/bed_room/apartment-2094734__340.jpg')]\n",
      "[('bed_room', 'dataset/bed_room/apartment-2094734__340.jpg')]\n",
      "[('bed_room', 'dataset/bed_room/apartment-2094734__340.jpg')]\n",
      "[('bed_room', 'dataset/bed_room/apartment-2094734__340.jpg')]\n",
      "[('bed_room', 'dataset/bed_room/apartment-2094734__340.jpg')]\n",
      "[('bed_room', 'dataset/bed_room/apartment-2094734__340.jpg')]\n",
      "[('bed_room', 'dataset/bed_room/apartment-2094734__340.jpg')]\n",
      "[('bed_room', 'dataset/bed_room/apartment-2094734__340.jpg')]\n",
      "[('bed_room', 'dataset/bed_room/apartment-2094734__340.jpg')]\n",
      "[('bed_room', 'dataset/bed_room/apartment-2094734__340.jpg')]\n",
      "[('bed_room', 'dataset/bed_room/apartment-2094734__340.jpg')]\n",
      "[('bed_room', 'dataset/bed_room/apartment-2094734__340.jpg')]\n",
      "[('bed_room', 'dataset/bed_room/apartment-2094734__340.jpg')]\n",
      "[('bed_room', 'dataset/bed_room/apartment-2094734__340.jpg')]\n",
      "[('bed_room', 'dataset/bed_room/apartment-2094734__340.jpg')]\n",
      "[('bed_room', 'dataset/bed_room/apartment-2094734__340.jpg')]\n",
      "[('bed_room', 'dataset/bed_room/apartment-2094734__340.jpg')]\n",
      "[('bed_room', 'dataset/bed_room/apartment-2094734__340.jpg')]\n",
      "[('bed_room', 'dataset/bed_room/apartment-2094734__340.jpg')]\n",
      "[('bed_room', 'dataset/bed_room/apartment-2094734__340.jpg')]\n",
      "[('bed_room', 'dataset/bed_room/apartment-2094734__340.jpg')]\n",
      "[('bed_room', 'dataset/bed_room/apartment-2094734__340.jpg')]\n",
      "[('bed_room', 'dataset/bed_room/apartment-2094734__340.jpg')]\n",
      "[('bed_room', 'dataset/bed_room/apartment-2094734__340.jpg')]\n",
      "[('bed_room', 'dataset/bed_room/apartment-2094734__340.jpg')]\n",
      "[('bed_room', 'dataset/bed_room/apartment-2094734__340.jpg')]\n",
      "[('bed_room', 'dataset/bed_room/apartment-2094734__340.jpg')]\n",
      "[('bed_room', 'dataset/bed_room/apartment-2094734__340.jpg')]\n",
      "[('bed_room', 'dataset/bed_room/apartment-2094734__340.jpg')]\n",
      "[('bed_room', 'dataset/bed_room/apartment-2094734__340.jpg')]\n",
      "[('bed_room', 'dataset/bed_room/apartment-2094734__340.jpg')]\n",
      "[('bed_room', 'dataset/bed_room/apartment-2094734__340.jpg')]\n",
      "[('bed_room', 'dataset/bed_room/apartment-2094734__340.jpg')]\n",
      "[('bed_room', 'dataset/bed_room/apartment-2094734__340.jpg')]\n",
      "[('bed_room', 'dataset/bed_room/apartment-2094734__340.jpg')]\n",
      "[('bed_room', 'dataset/bed_room/apartment-2094734__340.jpg')]\n",
      "[('bed_room', 'dataset/bed_room/apartment-2094734__340.jpg')]\n",
      "[('bed_room', 'dataset/bed_room/apartment-2094734__340.jpg')]\n",
      "[('bed_room', 'dataset/bed_room/apartment-2094734__340.jpg')]\n",
      "[('bed_room', 'dataset/bed_room/apartment-2094734__340.jpg')]\n",
      "[('bed_room', 'dataset/bed_room/apartment-2094734__340.jpg')]\n",
      "[('bed_room', 'dataset/bed_room/apartment-2094734__340.jpg')]\n",
      "[('bed_room', 'dataset/bed_room/apartment-2094734__340.jpg')]\n",
      "[('bed_room', 'dataset/bed_room/apartment-2094734__340.jpg')]\n",
      "[('bed_room', 'dataset/bed_room/apartment-2094734__340.jpg')]\n",
      "[('bed_room', 'dataset/bed_room/apartment-2094734__340.jpg')]\n",
      "[('bed_room', 'dataset/bed_room/apartment-2094734__340.jpg')]\n",
      "[('bed_room', 'dataset/bed_room/apartment-2094734__340.jpg')]\n",
      "[('bed_room', 'dataset/bed_room/apartment-2094734__340.jpg')]\n",
      "[('bed_room', 'dataset/bed_room/apartment-2094734__340.jpg')]\n",
      "[('bed_room', 'dataset/bed_room/apartment-2094734__340.jpg')]\n",
      "[('bed_room', 'dataset/bed_room/apartment-2094734__340.jpg')]\n",
      "[('bed_room', 'dataset/bed_room/apartment-2094734__340.jpg')]\n",
      "[('bed_room', 'dataset/bed_room/apartment-2094734__340.jpg')]\n",
      "[('bed_room', 'dataset/bed_room/apartment-2094734__340.jpg')]\n",
      "[('bed_room', 'dataset/bed_room/apartment-2094734__340.jpg')]\n",
      "[('bed_room', 'dataset/bed_room/apartment-2094734__340.jpg')]\n",
      "[('bed_room', 'dataset/bed_room/apartment-2094734__340.jpg')]\n",
      "[('bed_room', 'dataset/bed_room/apartment-2094734__340.jpg')]\n",
      "[('bed_room', 'dataset/bed_room/apartment-2094734__340.jpg')]\n",
      "[('bed_room', 'dataset/bed_room/apartment-2094734__340.jpg')]\n",
      "[('bed_room', 'dataset/bed_room/apartment-2094734__340.jpg')]\n",
      "[('bed_room', 'dataset/bed_room/apartment-2094734__340.jpg')]\n",
      "[('bed_room', 'dataset/bed_room/apartment-2094734__340.jpg')]\n",
      "[('bed_room', 'dataset/bed_room/apartment-2094734__340.jpg')]\n",
      "[('bed_room', 'dataset/bed_room/apartment-2094734__340.jpg')]\n",
      "[('bed_room', 'dataset/bed_room/apartment-2094734__340.jpg')]\n",
      "[('bed_room', 'dataset/bed_room/apartment-2094734__340.jpg')]\n",
      "[('bed_room', 'dataset/bed_room/apartment-2094734__340.jpg')]\n",
      "[('bed_room', 'dataset/bed_room/apartment-2094734__340.jpg')]\n",
      "[('bed_room', 'dataset/bed_room/apartment-2094734__340.jpg')]\n",
      "[('bed_room', 'dataset/bed_room/apartment-2094734__340.jpg')]\n",
      "[('bed_room', 'dataset/bed_room/apartment-2094734__340.jpg')]\n",
      "[('bed_room', 'dataset/bed_room/apartment-2094734__340.jpg')]\n",
      "[('bed_room', 'dataset/bed_room/apartment-2094734__340.jpg')]\n",
      "[('bed_room', 'dataset/bed_room/apartment-2094734__340.jpg')]\n",
      "[('bed_room', 'dataset/bed_room/apartment-2094734__340.jpg')]\n",
      "[('bed_room', 'dataset/bed_room/apartment-2094734__340.jpg')]\n",
      "[('bed_room', 'dataset/bed_room/apartment-2094734__340.jpg')]\n",
      "[('bed_room', 'dataset/bed_room/apartment-2094734__340.jpg')]\n",
      "[('bed_room', 'dataset/bed_room/apartment-2094734__340.jpg')]\n",
      "[('bed_room', 'dataset/bed_room/apartment-2094734__340.jpg')]\n",
      "[('bed_room', 'dataset/bed_room/apartment-2094734__340.jpg')]\n",
      "[('bed_room', 'dataset/bed_room/apartment-2094734__340.jpg')]\n",
      "[('bed_room', 'dataset/bed_room/apartment-2094734__340.jpg')]\n",
      "[('bed_room', 'dataset/bed_room/apartment-2094734__340.jpg')]\n",
      "[('bed_room', 'dataset/bed_room/apartment-2094734__340.jpg')]\n",
      "[('bed_room', 'dataset/bed_room/apartment-2094734__340.jpg')]\n",
      "[('bed_room', 'dataset/bed_room/apartment-2094734__340.jpg')]\n",
      "[('bed_room', 'dataset/bed_room/apartment-2094734__340.jpg')]\n",
      "[('bed_room', 'dataset/bed_room/apartment-2094734__340.jpg')]\n",
      "[('bed_room', 'dataset/bed_room/apartment-2094734__340.jpg')]\n",
      "[('bed_room', 'dataset/bed_room/apartment-2094734__340.jpg')]\n",
      "[('bed_room', 'dataset/bed_room/apartment-2094734__340.jpg')]\n",
      "[('bed_room', 'dataset/bed_room/apartment-2094734__340.jpg')]\n",
      "[('bed_room', 'dataset/bed_room/apartment-2094734__340.jpg')]\n",
      "[('bed_room', 'dataset/bed_room/apartment-2094734__340.jpg')]\n",
      "[('bed_room', 'dataset/bed_room/apartment-2094734__340.jpg')]\n",
      "[('bed_room', 'dataset/bed_room/apartment-2094734__340.jpg')]\n",
      "[('bed_room', 'dataset/bed_room/apartment-2094734__340.jpg')]\n",
      "[('bed_room', 'dataset/bed_room/apartment-2094734__340.jpg')]\n",
      "[('bed_room', 'dataset/bed_room/apartment-2094734__340.jpg')]\n",
      "[('bed_room', 'dataset/bed_room/apartment-2094734__340.jpg')]\n",
      "[('bed_room', 'dataset/bed_room/apartment-2094734__340.jpg')]\n",
      "[('bed_room', 'dataset/bed_room/apartment-2094734__340.jpg')]\n",
      "[('bed_room', 'dataset/bed_room/apartment-2094734__340.jpg')]\n",
      "[('bed_room', 'dataset/bed_room/apartment-2094734__340.jpg')]\n",
      "[('bed_room', 'dataset/bed_room/apartment-2094734__340.jpg')]\n",
      "[('bed_room', 'dataset/bed_room/apartment-2094734__340.jpg')]\n",
      "[('bed_room', 'dataset/bed_room/apartment-2094734__340.jpg')]\n",
      "[('bed_room', 'dataset/bed_room/apartment-2094734__340.jpg')]\n",
      "[('bed_room', 'dataset/bed_room/apartment-2094734__340.jpg')]\n",
      "[('bed_room', 'dataset/bed_room/apartment-2094734__340.jpg')]\n",
      "[('bed_room', 'dataset/bed_room/apartment-2094734__340.jpg')]\n",
      "[('bed_room', 'dataset/bed_room/apartment-2094734__340.jpg')]\n",
      "[('bed_room', 'dataset/bed_room/apartment-2094734__340.jpg')]\n",
      "[('bed_room', 'dataset/bed_room/apartment-2094734__340.jpg')]\n",
      "[('bed_room', 'dataset/bed_room/apartment-2094734__340.jpg')]\n",
      "[('bed_room', 'dataset/bed_room/apartment-2094734__340.jpg')]\n",
      "[('bed_room', 'dataset/bed_room/apartment-2094734__340.jpg')]\n",
      "[('bed_room', 'dataset/bed_room/apartment-2094734__340.jpg')]\n",
      "[('bed_room', 'dataset/bed_room/apartment-2094734__340.jpg')]\n",
      "[('bed_room', 'dataset/bed_room/apartment-2094734__340.jpg')]\n",
      "[('bed_room', 'dataset/bed_room/apartment-2094734__340.jpg')]\n",
      "[('bed_room', 'dataset/bed_room/apartment-2094734__340.jpg')]\n",
      "[('bed_room', 'dataset/bed_room/apartment-2094734__340.jpg')]\n",
      "[('bed_room', 'dataset/bed_room/apartment-2094734__340.jpg')]\n",
      "[('bed_room', 'dataset/bed_room/apartment-2094734__340.jpg')]\n",
      "[('bed_room', 'dataset/bed_room/apartment-2094734__340.jpg')]\n",
      "[('bed_room', 'dataset/bed_room/apartment-2094734__340.jpg')]\n",
      "[('bed_room', 'dataset/bed_room/apartment-2094734__340.jpg')]\n",
      "[('bed_room', 'dataset/bed_room/apartment-2094734__340.jpg')]\n",
      "[('bed_room', 'dataset/bed_room/apartment-2094734__340.jpg')]\n",
      "[('bed_room', 'dataset/bed_room/apartment-2094734__340.jpg')]\n",
      "[('bed_room', 'dataset/bed_room/apartment-2094734__340.jpg')]\n",
      "[('bed_room', 'dataset/bed_room/apartment-2094734__340.jpg')]\n",
      "[('bed_room', 'dataset/bed_room/apartment-2094734__340.jpg')]\n",
      "[('bed_room', 'dataset/bed_room/apartment-2094734__340.jpg')]\n",
      "[('bed_room', 'dataset/bed_room/apartment-2094734__340.jpg')]\n",
      "[('bed_room', 'dataset/bed_room/apartment-2094734__340.jpg')]\n",
      "[('bed_room', 'dataset/bed_room/apartment-2094734__340.jpg')]\n",
      "[('bed_room', 'dataset/bed_room/apartment-2094734__340.jpg')]\n",
      "[('bed_room', 'dataset/bed_room/apartment-2094734__340.jpg')]\n",
      "[('bed_room', 'dataset/bed_room/apartment-2094734__340.jpg')]\n",
      "[('bed_room', 'dataset/bed_room/apartment-2094734__340.jpg')]\n",
      "[('bed_room', 'dataset/bed_room/apartment-2094734__340.jpg')]\n",
      "[('bed_room', 'dataset/bed_room/apartment-2094734__340.jpg')]\n",
      "[('bed_room', 'dataset/bed_room/apartment-2094734__340.jpg')]\n",
      "[('bed_room', 'dataset/bed_room/apartment-2094734__340.jpg')]\n",
      "[('bed_room', 'dataset/bed_room/apartment-2094734__340.jpg')]\n",
      "[('bed_room', 'dataset/bed_room/apartment-2094734__340.jpg')]\n",
      "[('bed_room', 'dataset/bed_room/apartment-2094734__340.jpg')]\n",
      "[('bed_room', 'dataset/bed_room/apartment-2094734__340.jpg')]\n",
      "[('bed_room', 'dataset/bed_room/apartment-2094734__340.jpg')]\n",
      "[('bed_room', 'dataset/bed_room/apartment-2094734__340.jpg')]\n",
      "[('bed_room', 'dataset/bed_room/apartment-2094734__340.jpg')]\n",
      "[('bed_room', 'dataset/bed_room/apartment-2094734__340.jpg')]\n",
      "[('bed_room', 'dataset/bed_room/apartment-2094734__340.jpg')]\n",
      "[('bed_room', 'dataset/bed_room/apartment-2094734__340.jpg')]\n",
      "[('bed_room', 'dataset/bed_room/apartment-2094734__340.jpg')]\n",
      "[('bed_room', 'dataset/bed_room/apartment-2094734__340.jpg')]\n",
      "[('bed_room', 'dataset/bed_room/apartment-2094734__340.jpg')]\n",
      "[('bed_room', 'dataset/bed_room/apartment-2094734__340.jpg')]\n",
      "[('bed_room', 'dataset/bed_room/apartment-2094734__340.jpg')]\n",
      "[('bed_room', 'dataset/bed_room/apartment-2094734__340.jpg')]\n",
      "[('bed_room', 'dataset/bed_room/apartment-2094734__340.jpg')]\n",
      "[('bed_room', 'dataset/bed_room/apartment-2094734__340.jpg')]\n",
      "[('bed_room', 'dataset/bed_room/apartment-2094734__340.jpg')]\n"
     ]
    }
   ],
   "source": [
    "rooms = []\n",
    "\n",
    "for item in room_types:\n",
    " # Get all the file names\n",
    " all_rooms = os.listdir('dataset' + '/' +item)\n",
    " #print(all_shoes)\n",
    "\n",
    " # Add them to the list\n",
    " for room in all_rooms:\n",
    "    rooms.append((item, str('dataset' + '/' +item) + '/' + room))\n",
    "    print(rooms[:1])"
   ]
  },
  {
   "cell_type": "code",
   "execution_count": 4,
   "metadata": {},
   "outputs": [
    {
     "name": "stdout",
     "output_type": "stream",
     "text": [
      "  room type                                              image\n",
      "0  bed_room        dataset/bed_room/apartment-2094734__340.jpg\n",
      "1  bed_room        dataset/bed_room/apartment-4744139__340.jpg\n",
      "2  bed_room     dataset/bed_room/architecture-2141065__340.jpg\n",
      "3  bed_room  dataset/bed_room/architecture-modern-house-bea...\n",
      "4  bed_room             dataset/bed_room/baby-1266117__340.jpg\n",
      "       room type                                             image\n",
      "388  living_room  dataset/living_room/victoria-borodinova-706.jpeg\n",
      "389  living_room          dataset/living_room/wall-823611__340.jpg\n",
      "390  living_room        dataset/living_room/woman-2099465__340.jpg\n",
      "391  living_room         dataset/living_room/young-510440__340.jpg\n",
      "392  living_room         dataset/living_room/young-510453__340.jpg\n"
     ]
    }
   ],
   "source": [
    "# Build a dataframe        \n",
    "rooms_df = pd.DataFrame(data=rooms, columns=['room type', 'image'])\n",
    "print(rooms_df.head())\n",
    "print(rooms_df.tail())"
   ]
  },
  {
   "cell_type": "code",
   "execution_count": 5,
   "metadata": {},
   "outputs": [
    {
     "name": "stdout",
     "output_type": "stream",
     "text": [
      "Total number of rooms in the dataset:  393\n"
     ]
    }
   ],
   "source": [
    "# Let's check how many samples for each category are present\n",
    "print(\"Total number of rooms in the dataset: \", len(rooms_df))"
   ]
  },
  {
   "cell_type": "code",
   "execution_count": 6,
   "metadata": {},
   "outputs": [
    {
     "name": "stdout",
     "output_type": "stream",
     "text": [
      "rooms in each category: \n",
      "bed_room       159\n",
      "living_room    148\n",
      "dining_room     86\n",
      "Name: room type, dtype: int64\n"
     ]
    }
   ],
   "source": [
    "room_count = rooms_df['room type'].value_counts()\n",
    "\n",
    "print(\"rooms in each category: \")\n",
    "print(room_count)"
   ]
  },
  {
   "cell_type": "code",
   "execution_count": 7,
   "metadata": {},
   "outputs": [],
   "source": [
    "import cv2\n",
    "path = 'dataset/'\n",
    "\n",
    "\n",
    "#im_size = 100\n",
    "im_size = 300\n",
    "\n",
    "images = []\n",
    "labels = []\n",
    "\n",
    "for i in room_types:\n",
    "    data_path = path + str(i) \n",
    "    filenames = [i for i in os.listdir(data_path) ]\n",
    "   \n",
    "    for f in filenames:\n",
    "        img = cv2.imread(data_path + '/' + f)  # reading that image as array\n",
    "        #print(img)  # will get the image as an array\n",
    "        img = cv2.resize(img, (im_size, im_size))\n",
    "        images.append(img)\n",
    "        labels.append(i)"
   ]
  },
  {
   "cell_type": "code",
   "execution_count": 8,
   "metadata": {},
   "outputs": [
    {
     "data": {
      "text/plain": [
       "(393, 300, 300, 3)"
      ]
     },
     "execution_count": 8,
     "metadata": {},
     "output_type": "execute_result"
    }
   ],
   "source": [
    "# Transform the image array to a numpy type\n",
    "\n",
    "images = np.array(images)\n",
    "\n",
    "images.shape"
   ]
  },
  {
   "cell_type": "code",
   "execution_count": 9,
   "metadata": {},
   "outputs": [],
   "source": [
    "images = images.astype('float32') / 255.0"
   ]
  },
  {
   "cell_type": "code",
   "execution_count": 10,
   "metadata": {},
   "outputs": [
    {
     "data": {
      "text/plain": [
       "(393, 300, 300, 3)"
      ]
     },
     "execution_count": 10,
     "metadata": {},
     "output_type": "execute_result"
    }
   ],
   "source": [
    "images.shape"
   ]
  },
  {
   "cell_type": "code",
   "execution_count": 11,
   "metadata": {},
   "outputs": [
    {
     "name": "stdout",
     "output_type": "stream",
     "text": [
      "['bed_room' 'bed_room' 'bed_room' 'bed_room' 'bed_room']\n"
     ]
    }
   ],
   "source": [
    "from sklearn.preprocessing import LabelEncoder , OneHotEncoder\n",
    "\n",
    "\n",
    "y=rooms_df['room type'].values\n",
    "print(y[:5])"
   ]
  },
  {
   "cell_type": "code",
   "execution_count": 12,
   "metadata": {},
   "outputs": [
    {
     "name": "stdout",
     "output_type": "stream",
     "text": [
      "[0 0 0 0 0 0 0 0 0 0 0 0 0 0 0 0 0 0 0 0 0 0 0 0 0 0 0 0 0 0 0 0 0 0 0 0 0\n",
      " 0 0 0 0 0 0 0 0 0 0 0 0 0 0 0 0 0 0 0 0 0 0 0 0 0 0 0 0 0 0 0 0 0 0 0 0 0\n",
      " 0 0 0 0 0 0 0 0 0 0 0 0 0 0 0 0 0 0 0 0 0 0 0 0 0 0 0 0 0 0 0 0 0 0 0 0 0\n",
      " 0 0 0 0 0 0 0 0 0 0 0 0 0 0 0 0 0 0 0 0 0 0 0 0 0 0 0 0 0 0 0 0 0 0 0 0 0\n",
      " 0 0 0 0 0 0 0 0 0 0 0 1 1 1 1 1 1 1 1 1 1 1 1 1 1 1 1 1 1 1 1 1 1 1 1 1 1\n",
      " 1 1 1 1 1 1 1 1 1 1 1 1 1 1 1 1 1 1 1 1 1 1 1 1 1 1 1 1 1 1 1 1 1 1 1 1 1\n",
      " 1 1 1 1 1 1 1 1 1 1 1 1 1 1 1 1 1 1 1 1 1 1 1 2 2 2 2 2 2 2 2 2 2 2 2 2 2\n",
      " 2 2 2 2 2 2 2 2 2 2 2 2 2 2 2 2 2 2 2 2 2 2 2 2 2 2 2 2 2 2 2 2 2 2 2 2 2\n",
      " 2 2 2 2 2 2 2 2 2 2 2 2 2 2 2 2 2 2 2 2 2 2 2 2 2 2 2 2 2 2 2 2 2 2 2 2 2\n",
      " 2 2 2 2 2 2 2 2 2 2 2 2 2 2 2 2 2 2 2 2 2 2 2 2 2 2 2 2 2 2 2 2 2 2 2 2 2\n",
      " 2 2 2 2 2 2 2 2 2 2 2 2 2 2 2 2 2 2 2 2 2 2 2]\n"
     ]
    }
   ],
   "source": [
    "# for y\n",
    "y_labelencoder = LabelEncoder ()\n",
    "y = y_labelencoder.fit_transform (y)\n",
    "print (y)"
   ]
  },
  {
   "cell_type": "code",
   "execution_count": 13,
   "metadata": {},
   "outputs": [
    {
     "name": "stdout",
     "output_type": "stream",
     "text": [
      "(373, 300, 300, 3)\n",
      "(373,)\n",
      "(20, 300, 300, 3)\n",
      "(20,)\n"
     ]
    }
   ],
   "source": [
    "\n",
    "from sklearn.utils import shuffle\n",
    "from sklearn.model_selection import train_test_split\n",
    "\n",
    "\n",
    "images, y = shuffle(images, y, random_state=1)\n",
    "\n",
    "train_x, test_x, train_y, test_y = train_test_split(images, y, test_size=0.05, random_state=415)\n",
    "\n",
    "#inpect the shape of the training and testing.\n",
    "print(train_x.shape)\n",
    "print(train_y.shape)\n",
    "print(test_x.shape)\n",
    "print(test_y.shape)"
   ]
  },
  {
   "cell_type": "markdown",
   "metadata": {},
   "source": [
    "# Now our data is ready for Image Classification\n",
    "\n",
    "\n",
    "#########################################################################################################################"
   ]
  },
  {
   "cell_type": "code",
   "execution_count": 14,
   "metadata": {},
   "outputs": [
    {
     "name": "stderr",
     "output_type": "stream",
     "text": [
      "Using TensorFlow backend.\n",
      "c:\\users\\lenovo\\appdata\\local\\programs\\python\\python36\\lib\\site-packages\\tensorflow\\python\\framework\\dtypes.py:516: FutureWarning: Passing (type, 1) or '1type' as a synonym of type is deprecated; in a future version of numpy, it will be understood as (type, (1,)) / '(1,)type'.\n",
      "  _np_qint8 = np.dtype([(\"qint8\", np.int8, 1)])\n",
      "c:\\users\\lenovo\\appdata\\local\\programs\\python\\python36\\lib\\site-packages\\tensorflow\\python\\framework\\dtypes.py:517: FutureWarning: Passing (type, 1) or '1type' as a synonym of type is deprecated; in a future version of numpy, it will be understood as (type, (1,)) / '(1,)type'.\n",
      "  _np_quint8 = np.dtype([(\"quint8\", np.uint8, 1)])\n",
      "c:\\users\\lenovo\\appdata\\local\\programs\\python\\python36\\lib\\site-packages\\tensorflow\\python\\framework\\dtypes.py:518: FutureWarning: Passing (type, 1) or '1type' as a synonym of type is deprecated; in a future version of numpy, it will be understood as (type, (1,)) / '(1,)type'.\n",
      "  _np_qint16 = np.dtype([(\"qint16\", np.int16, 1)])\n",
      "c:\\users\\lenovo\\appdata\\local\\programs\\python\\python36\\lib\\site-packages\\tensorflow\\python\\framework\\dtypes.py:519: FutureWarning: Passing (type, 1) or '1type' as a synonym of type is deprecated; in a future version of numpy, it will be understood as (type, (1,)) / '(1,)type'.\n",
      "  _np_quint16 = np.dtype([(\"quint16\", np.uint16, 1)])\n",
      "c:\\users\\lenovo\\appdata\\local\\programs\\python\\python36\\lib\\site-packages\\tensorflow\\python\\framework\\dtypes.py:520: FutureWarning: Passing (type, 1) or '1type' as a synonym of type is deprecated; in a future version of numpy, it will be understood as (type, (1,)) / '(1,)type'.\n",
      "  _np_qint32 = np.dtype([(\"qint32\", np.int32, 1)])\n",
      "c:\\users\\lenovo\\appdata\\local\\programs\\python\\python36\\lib\\site-packages\\tensorflow\\python\\framework\\dtypes.py:525: FutureWarning: Passing (type, 1) or '1type' as a synonym of type is deprecated; in a future version of numpy, it will be understood as (type, (1,)) / '(1,)type'.\n",
      "  np_resource = np.dtype([(\"resource\", np.ubyte, 1)])\n",
      "c:\\users\\lenovo\\appdata\\local\\programs\\python\\python36\\lib\\site-packages\\tensorboard\\compat\\tensorflow_stub\\dtypes.py:541: FutureWarning: Passing (type, 1) or '1type' as a synonym of type is deprecated; in a future version of numpy, it will be understood as (type, (1,)) / '(1,)type'.\n",
      "  _np_qint8 = np.dtype([(\"qint8\", np.int8, 1)])\n",
      "c:\\users\\lenovo\\appdata\\local\\programs\\python\\python36\\lib\\site-packages\\tensorboard\\compat\\tensorflow_stub\\dtypes.py:542: FutureWarning: Passing (type, 1) or '1type' as a synonym of type is deprecated; in a future version of numpy, it will be understood as (type, (1,)) / '(1,)type'.\n",
      "  _np_quint8 = np.dtype([(\"quint8\", np.uint8, 1)])\n",
      "c:\\users\\lenovo\\appdata\\local\\programs\\python\\python36\\lib\\site-packages\\tensorboard\\compat\\tensorflow_stub\\dtypes.py:543: FutureWarning: Passing (type, 1) or '1type' as a synonym of type is deprecated; in a future version of numpy, it will be understood as (type, (1,)) / '(1,)type'.\n",
      "  _np_qint16 = np.dtype([(\"qint16\", np.int16, 1)])\n",
      "c:\\users\\lenovo\\appdata\\local\\programs\\python\\python36\\lib\\site-packages\\tensorboard\\compat\\tensorflow_stub\\dtypes.py:544: FutureWarning: Passing (type, 1) or '1type' as a synonym of type is deprecated; in a future version of numpy, it will be understood as (type, (1,)) / '(1,)type'.\n",
      "  _np_quint16 = np.dtype([(\"quint16\", np.uint16, 1)])\n",
      "c:\\users\\lenovo\\appdata\\local\\programs\\python\\python36\\lib\\site-packages\\tensorboard\\compat\\tensorflow_stub\\dtypes.py:545: FutureWarning: Passing (type, 1) or '1type' as a synonym of type is deprecated; in a future version of numpy, it will be understood as (type, (1,)) / '(1,)type'.\n",
      "  _np_qint32 = np.dtype([(\"qint32\", np.int32, 1)])\n",
      "c:\\users\\lenovo\\appdata\\local\\programs\\python\\python36\\lib\\site-packages\\tensorboard\\compat\\tensorflow_stub\\dtypes.py:550: FutureWarning: Passing (type, 1) or '1type' as a synonym of type is deprecated; in a future version of numpy, it will be understood as (type, (1,)) / '(1,)type'.\n",
      "  np_resource = np.dtype([(\"resource\", np.ubyte, 1)])\n"
     ]
    }
   ],
   "source": [
    "# Develop a sequential model using tensorflow keras\n",
    "import keras\n",
    "import tensorflow as tf\n",
    "model = keras.Sequential([\n",
    "    keras.layers.Flatten(input_shape=(300,300,3)),\n",
    "    keras.layers.Dense(256, activation=tf.nn.tanh),\n",
    "   \n",
    "    keras.layers.Dense(3, activation=tf.nn.softmax)\n",
    "])"
   ]
  },
  {
   "cell_type": "code",
   "execution_count": 15,
   "metadata": {},
   "outputs": [
    {
     "name": "stdout",
     "output_type": "stream",
     "text": [
      "Model: \"sequential_1\"\n",
      "_________________________________________________________________\n",
      "Layer (type)                 Output Shape              Param #   \n",
      "=================================================================\n",
      "flatten_1 (Flatten)          (None, 270000)            0         \n",
      "_________________________________________________________________\n",
      "dense_1 (Dense)              (None, 256)               69120256  \n",
      "_________________________________________________________________\n",
      "dense_2 (Dense)              (None, 3)                 771       \n",
      "=================================================================\n",
      "Total params: 69,121,027\n",
      "Trainable params: 69,121,027\n",
      "Non-trainable params: 0\n",
      "_________________________________________________________________\n"
     ]
    }
   ],
   "source": [
    "model.summary()"
   ]
  },
  {
   "cell_type": "code",
   "execution_count": 16,
   "metadata": {},
   "outputs": [],
   "source": [
    "# Compute the model parameters\n",
    "\n",
    "model.compile(optimizer=tf.train.AdamOptimizer(), \n",
    "              loss='sparse_categorical_crossentropy',\n",
    "              metrics=['accuracy'])"
   ]
  },
  {
   "cell_type": "code",
   "execution_count": 17,
   "metadata": {},
   "outputs": [
    {
     "name": "stdout",
     "output_type": "stream",
     "text": [
      "WARNING:tensorflow:From c:\\users\\lenovo\\appdata\\local\\programs\\python\\python36\\lib\\site-packages\\keras\\backend\\tensorflow_backend.py:422: The name tf.global_variables is deprecated. Please use tf.compat.v1.global_variables instead.\n",
      "\n",
      "WARNING:tensorflow:From c:\\users\\lenovo\\appdata\\local\\programs\\python\\python36\\lib\\site-packages\\keras\\backend\\tensorflow_backend.py:431: The name tf.is_variable_initialized is deprecated. Please use tf.compat.v1.is_variable_initialized instead.\n",
      "\n",
      "WARNING:tensorflow:From c:\\users\\lenovo\\appdata\\local\\programs\\python\\python36\\lib\\site-packages\\keras\\backend\\tensorflow_backend.py:438: The name tf.variables_initializer is deprecated. Please use tf.compat.v1.variables_initializer instead.\n",
      "\n",
      "Epoch 1/5\n",
      "373/373 [==============================] - 4s 11ms/step - loss: 4.4957 - accuracy: 0.3914\n",
      "Epoch 2/5\n",
      "373/373 [==============================] - 4s 11ms/step - loss: 4.0540 - accuracy: 0.4021\n",
      "Epoch 3/5\n",
      "373/373 [==============================] - 4s 11ms/step - loss: 3.0139 - accuracy: 0.4182\n",
      "Epoch 4/5\n",
      "373/373 [==============================] - 4s 11ms/step - loss: 2.0575 - accuracy: 0.3378\n",
      "Epoch 5/5\n",
      "373/373 [==============================] - 4s 11ms/step - loss: 1.1887 - accuracy: 0.4075\n"
     ]
    },
    {
     "data": {
      "text/plain": [
       "<keras.callbacks.callbacks.History at 0x2251e2d46a0>"
      ]
     },
     "execution_count": 17,
     "metadata": {},
     "output_type": "execute_result"
    }
   ],
   "source": [
    "# Train the model  with 5 epochs \n",
    "\n",
    "model.fit(train_x,train_y, epochs=5)"
   ]
  },
  {
   "cell_type": "code",
   "execution_count": 18,
   "metadata": {},
   "outputs": [
    {
     "data": {
      "text/plain": [
       "array([1, 1, 1, 1, 1, 1, 1, 1, 1, 1, 1, 1, 1, 1, 1, 1, 1, 1, 1, 1],\n",
       "      dtype=int64)"
      ]
     },
     "execution_count": 18,
     "metadata": {},
     "output_type": "execute_result"
    }
   ],
   "source": [
    "y_pred = model.predict_classes(test_x)\n",
    "y_pred"
   ]
  },
  {
   "cell_type": "markdown",
   "metadata": {},
   "source": [
    "# Take input from user"
   ]
  },
  {
   "cell_type": "code",
   "execution_count": 19,
   "metadata": {},
   "outputs": [
    {
     "data": {
      "image/png": "[encoded data removed]",
      "text/plain": [
       "<PIL.Image.Image image mode=RGB size=300x300 at 0x2251E4FBBA8>"
      ]
     },
     "execution_count": 19,
     "metadata": {},
     "output_type": "execute_result"
    }
   ],
   "source": [
    "from keras.preprocessing.image import load_img\n",
    "\n",
    "import numpy as np\n",
    "\n",
    "image = load_img('t2.jpg', target_size=(300, 300))   # predicting correct \n",
    "image\n"
   ]
  },
  {
   "cell_type": "code",
   "execution_count": 20,
   "metadata": {},
   "outputs": [],
   "source": [
    "# convert the image pixels to a numpy array\n",
    "image = np.array(image)\n",
    "image.shape\n",
    "\n",
    "# reshape data for the model\n",
    "image = image.reshape((1, image.shape[0], image.shape[1], image.shape[2]))\n",
    "\n"
   ]
  },
  {
   "cell_type": "code",
   "execution_count": 21,
   "metadata": {},
   "outputs": [
    {
     "data": {
      "text/plain": [
       "array([[0.31677377, 0.3919051 , 0.29132116]], dtype=float32)"
      ]
     },
     "execution_count": 21,
     "metadata": {},
     "output_type": "execute_result"
    }
   ],
   "source": [
    "yhat = model.predict(image)\n",
    "yhat"
   ]
  }
 ],
 "metadata": {
  "kernelspec": {
   "display_name": "Python 3",
   "language": "python",
   "name": "python3"
  },
  "language_info": {
   "codemirror_mode": {
    "name": "ipython",
    "version": 3
   },
   "file_extension": ".py",
   "mimetype": "text/x-python",
   "name": "python",
   "nbconvert_exporter": "python",
   "pygments_lexer": "ipython3",
   "version": "3.6.8"
  }
 },
 "nbformat": 4,
 "nbformat_minor": 2
}
